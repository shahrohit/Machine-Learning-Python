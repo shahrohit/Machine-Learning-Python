{
 "cells": [
  {
   "cell_type": "markdown",
   "metadata": {},
   "source": [
    "## Variables\n",
    "Variables are fundamental elements in programming used to store data that can be referenced and manipulated in a program. In Python, variables are created when you assign a value to them, and they do not need explicit declaration to reserve memory space. The declaration happens automatically when you assign a value to a variable.\n",
    "\n",
    "### Video Outline:\n",
    "- Introduction to Variables\n",
    "- Declaring and Assigning Variables\n",
    "- Naming Conventions\n",
    "- Understanding Variable Types\n",
    "- Type Checking and Conversion\n",
    "- Dynamic Typing\n",
    "- Practical Examples and Common Errors"
   ]
  },
  {
   "cell_type": "code",
   "execution_count": 1,
   "metadata": {},
   "outputs": [],
   "source": [
    "a = 100 ## variable 'a' is assigned a value of 100"
   ]
  },
  {
   "cell_type": "code",
   "execution_count": 2,
   "metadata": {},
   "outputs": [],
   "source": [
    "name = \"Python\" ## string variable\n",
    "developedIn = 1991 ## integer variable\n",
    "version = 3.12 ## float variable\n",
    "isEasy = True ## boolean variable"
   ]
  },
  {
   "cell_type": "code",
   "execution_count": 3,
   "metadata": {},
   "outputs": [
    {
     "name": "stdout",
     "output_type": "stream",
     "text": [
      "Language Name:  Python\n",
      "Developed In:  1991\n",
      "Version:  3.12\n",
      "Is Easy:  True\n"
     ]
    }
   ],
   "source": [
    "print(\"Language Name: \", name)\n",
    "print(\"Developed In: \", developedIn)\n",
    "print(\"Version: \", version)\n",
    "print(\"Is Easy: \", isEasy)"
   ]
  },
  {
   "cell_type": "code",
   "execution_count": 9,
   "metadata": {},
   "outputs": [],
   "source": [
    "## Naming Conventions\n",
    "## Variable names should be descriptive\n",
    "## They must start with a letter or an '_' and contains letter,numbers and underscores\n",
    "## variables names case sensitive\n",
    "\n",
    "## valid variable names\n",
    "myVariable = 100\n",
    "_myVariable = 100\n",
    "my_variable = 100\n",
    "myVariable1 = 100\n",
    "my_variable_1 = 100\n",
    "\n",
    "## Invalid variable names\n",
    "# 1myVariable = 100\n",
    "# my-Variable = 100\n",
    "# my Variable = 100\n",
    "# my@Variable = 100\n",
    "# myVariable$ = 100\n"
   ]
  },
  {
   "cell_type": "code",
   "execution_count": 8,
   "metadata": {},
   "outputs": [],
   "source": [
    "## Variable Naming Conventions\n",
    "\n",
    "## Camel Case\n",
    "myVariable = 100\n",
    "\n",
    "## Pascal Case\n",
    "MyVariable = 100\n",
    "\n",
    "## Snake Case\n",
    "my_variable = 100\n"
   ]
  },
  {
   "cell_type": "code",
   "execution_count": 11,
   "metadata": {},
   "outputs": [
    {
     "name": "stdout",
     "output_type": "stream",
     "text": [
      "120\n",
      "100\n"
     ]
    }
   ],
   "source": [
    "# Case Sensitivity\n",
    "\n",
    "myVariable = 100\n",
    "MyVariable = 120\n",
    "\n",
    "print(MyVariable)\n",
    "print(myVariable)"
   ]
  },
  {
   "cell_type": "code",
   "execution_count": 12,
   "metadata": {},
   "outputs": [],
   "source": [
    "## Variable Assignment\n",
    "## Variables are assigned using the assignment operator '='\n",
    "## Variables can be assigned to different types of values\n",
    "\n",
    "a = 100\n",
    "a = \"Python\"\n",
    "a = 3.12\n",
    "a = True"
   ]
  },
  {
   "cell_type": "code",
   "execution_count": 14,
   "metadata": {},
   "outputs": [
    {
     "name": "stdout",
     "output_type": "stream",
     "text": [
      "10 20 30\n",
      "100 100 100\n"
     ]
    }
   ],
   "source": [
    "## Multiple Assignment\n",
    "\n",
    "a,b,c = 10,20,30\n",
    "print(a,b,c)\n",
    "\n",
    "a = b = c = 100\n",
    "print(a,b,c)"
   ]
  },
  {
   "cell_type": "code",
   "execution_count": 19,
   "metadata": {},
   "outputs": [
    {
     "name": "stdout",
     "output_type": "stream",
     "text": [
      "a = 10 b = 20\n",
      "10 10\n"
     ]
    }
   ],
   "source": [
    "## Understanding Data Types\n",
    "## Python is a dynamically typed language\n",
    "## The type of a variable is determined at runtime (when the code is under execution)\n",
    "## Python has built-in data types : int, float, str, bool, list, tuple, dict, set\n",
    "\n",
    "## int - integer\n",
    "## integer is a whole number, positive or negative, without decimals "
   ]
  },
  {
   "cell_type": "code",
   "execution_count": null,
   "metadata": {},
   "outputs": [],
   "source": []
  }
 ],
 "metadata": {
  "kernelspec": {
   "display_name": "venv",
   "language": "python",
   "name": "python3"
  },
  "language_info": {
   "codemirror_mode": {
    "name": "ipython",
    "version": 3
   },
   "file_extension": ".py",
   "mimetype": "text/x-python",
   "name": "python",
   "nbconvert_exporter": "python",
   "pygments_lexer": "ipython3",
   "version": "3.12.3"
  }
 },
 "nbformat": 4,
 "nbformat_minor": 2
}
