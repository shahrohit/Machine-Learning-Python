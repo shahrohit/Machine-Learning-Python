{
 "cells": [
  {
   "cell_type": "markdown",
   "metadata": {},
   "source": [
    "## Data Types\n",
    "### 1. Definition:\n",
    "- Data types are a classification of data which tell the compiler or interpreter how the programmer intends to use the data.\n",
    "- They determine the type of operations that can be performed on the data, the values that the data can take, and the amount of memory needed to store the data.\n",
    "\n",
    "### 2. Importance of Data Types in Programming\n",
    "Explanation:\n",
    "\n",
    "- Data types ensure that data is stored in an efficient way.\n",
    "- They help in performing correct operations on data.\n",
    "- Proper use of data types can prevent errors and bugs in the program.\n",
    "\n",
    "### Outline:\n",
    "\n",
    "- Introduction to Data Types\n",
    "- Importance of Data Types in Programming\n",
    "- Basic Data Types\n",
    "    - Integers\n",
    "    - Floating-point numbers\n",
    "    - Strings\n",
    "    - Booleans\n",
    "- Advanced Data Types\n",
    "    - Lists\n",
    "    - Tuples\n",
    "    - Sets\n",
    "    - Dictionaries\n",
    "- Type Conversion\n",
    "- Practical Examples"
   ]
  },
  {
   "cell_type": "code",
   "execution_count": 1,
   "metadata": {},
   "outputs": [],
   "source": [
    "## Integer\n",
    "## Integer is a whole number, positive or negative, without decimals.\n",
    "num = 100\n",
    "print(\"value :\", num)\n",
    "print(\"Data Type :\", type(num))"
   ]
  },
  {
   "cell_type": "code",
   "execution_count": 7,
   "metadata": {},
   "outputs": [
    {
     "name": "stdout",
     "output_type": "stream",
     "text": [
      "value : 3.12\n",
      "Data Type : <class 'float'>\n"
     ]
    }
   ],
   "source": [
    "## Float\n",
    "## Float is a number, positive or negative, containing one or more decimals.\n",
    "version = 3.12\n",
    "print(\"value :\", version)\n",
    "print(\"Data Type :\", type(version))"
   ]
  },
  {
   "cell_type": "code",
   "execution_count": 9,
   "metadata": {},
   "outputs": [
    {
     "name": "stdout",
     "output_type": "stream",
     "text": [
      "value : True\n",
      "Data Type : <class 'bool'>\n"
     ]
    }
   ],
   "source": [
    "## Boolean\n",
    "## Boolean represents one of two values: True or False.\n",
    "\n",
    "isEasy = True\n",
    "print(\"value :\", isEasy)\n",
    "print(\"Data Type :\", type(isEasy))"
   ]
  },
  {
   "cell_type": "code",
   "execution_count": 10,
   "metadata": {},
   "outputs": [
    {
     "name": "stdout",
     "output_type": "stream",
     "text": [
      "value : Python\n",
      "Data Type : <class 'str'>\n"
     ]
    }
   ],
   "source": [
    "## String\n",
    "## String is a sequence of characters enclosed in single or double quotes.\n",
    "\n",
    "name = \"Python\"\n",
    "print(\"value :\", name)\n",
    "print(\"Data Type :\", type(name))"
   ]
  },
  {
   "cell_type": "code",
   "execution_count": 13,
   "metadata": {},
   "outputs": [
    {
     "name": "stdout",
     "output_type": "stream",
     "text": [
      "Fruits : ['apple', 'banana', 'cherry']\n",
      "Data Type : <class 'list'>\n",
      "Numbers : [1, 2, 3, 4, 5]\n",
      "Details : ['python', 3.12, True]\n"
     ]
    }
   ],
   "source": [
    "## List\n",
    "## List is a collection which is ordered and changeable. Allows duplicate elements.\n",
    "\n",
    "fruits = [\"apple\", \"banana\", \"cherry\"]\n",
    "print(\"Fruits :\", fruits) ## List of fruits (string value)\n",
    "print(\"Data Type :\", type(fruits))\n",
    "\n",
    "num = [1, 2, 3, 4, 5] ## List of numbers (integer value)\n",
    "print(\"Numbers :\", num)\n",
    "\n",
    "detail = [\"python\", 3.12, True] ## List of different data types\n",
    "print(\"Details :\", detail)"
   ]
  },
  {
   "cell_type": "code",
   "execution_count": 14,
   "metadata": {},
   "outputs": [
    {
     "name": "stdout",
     "output_type": "stream",
     "text": [
      "(1, 2, 3, 4, 5)\n"
     ]
    }
   ],
   "source": [
    "## Tuple\n",
    "## Tuple is a collection which is ordered and unchangeable. Allows duplicate elements.\n",
    "\n",
    "tup = (1,2,3,4,5)\n",
    "print(tup)"
   ]
  },
  {
   "cell_type": "code",
   "execution_count": 15,
   "metadata": {},
   "outputs": [
    {
     "name": "stdout",
     "output_type": "stream",
     "text": [
      "{1, 2, 3, 4}\n"
     ]
    }
   ],
   "source": [
    "## Set\n",
    "## A set in Python is used to store an unordered collection of unique items.\n",
    "\n",
    "a = {1,2,3,4,2,3}\n",
    "print(a)"
   ]
  },
  {
   "cell_type": "code",
   "execution_count": 18,
   "metadata": {},
   "outputs": [
    {
     "name": "stdout",
     "output_type": "stream",
     "text": [
      "{'name': 'Python', 'developedIn': 1991, 'isEasy': True}\n",
      "Name : Python\n"
     ]
    }
   ],
   "source": [
    "## dictionary\n",
    "## A dictionary in Python is used to store key-value pairs.\n",
    "detail = {\n",
    "    'name' : 'Python',\n",
    "    'developedIn' : 1991,\n",
    "    'isEasy' : True\n",
    "}\n",
    "print(detail)\n",
    "print(\"Name :\", detail['name'])"
   ]
  },
  {
   "cell_type": "markdown",
   "metadata": {},
   "source": [
    "### Type Conversion\n",
    "Type conversion in Python refers to the process of converting one data type to another. \n",
    "This can be done either explicitly by the programmer or implicitly by Python.\n",
    "\n",
    "#### Types of Type Conversion:\n",
    "1. Implicit Type Conversion (Type Coercion):\n",
    "2. Explicit Type Conversion (Type Casting):"
   ]
  },
  {
   "cell_type": "markdown",
   "metadata": {},
   "source": [
    "### Implicit Type Conversion (Type Coercion):\n",
    "\n",
    "Python automatically converts one data type to another during operations where it makes sense. This is done to prevent loss of data and to ensure compatibility."
   ]
  },
  {
   "cell_type": "code",
   "execution_count": 19,
   "metadata": {},
   "outputs": [
    {
     "name": "stdout",
     "output_type": "stream",
     "text": [
      "12.5\n",
      "<class 'float'>\n"
     ]
    }
   ],
   "source": [
    "# Integer and float in arithmetic operation\n",
    "num_int = 10\n",
    "num_float = 2.5\n",
    "\n",
    "result = num_int + num_float  # Implicit conversion\n",
    "print(result)       # Output: 12.5\n",
    "print(type(result))"
   ]
  },
  {
   "cell_type": "code",
   "execution_count": null,
   "metadata": {},
   "outputs": [],
   "source": []
  }
 ],
 "metadata": {
  "kernelspec": {
   "display_name": "venv",
   "language": "python",
   "name": "python3"
  },
  "language_info": {
   "codemirror_mode": {
    "name": "ipython",
    "version": 3
   },
   "file_extension": ".py",
   "mimetype": "text/x-python",
   "name": "python",
   "nbconvert_exporter": "python",
   "pygments_lexer": "ipython3",
   "version": "3.12.3"
  }
 },
 "nbformat": 4,
 "nbformat_minor": 2
}
